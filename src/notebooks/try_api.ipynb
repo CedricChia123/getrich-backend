{
 "cells": [
  {
   "cell_type": "code",
   "execution_count": 10,
   "metadata": {},
   "outputs": [
    {
     "name": "stderr",
     "output_type": "stream",
     "text": [
      "Loading checkpoint shards: 100%|██████████| 7/7 [00:36<00:00,  5.28s/it]\n"
     ]
    }
   ],
   "source": [
    "from transformers import AutoModel, AutoTokenizer\n",
    "from peft import PeftModel\n",
    "import warnings\n",
    "warnings.filterwarnings(\"ignore\")\n",
    "\n",
    "# Load Models\n",
    "base_model = \"THUDM/chatglm2-6b\"\n",
    "peft_model = \"oliverwang15/FinGPT_ChatGLM2_Sentiment_Instruction_LoRA_FT\"\n",
    "tokenizer = AutoTokenizer.from_pretrained(base_model, trust_remote_code=True)\n",
    "model = AutoModel.from_pretrained(base_model, trust_remote_code=True,  device_map = \"balanced\", offload_folder='base_model/model')\n",
    "model = PeftModel.from_pretrained(model, peft_model, offload_folder=\"../main/offload\")\n"
   ]
  },
  {
   "cell_type": "code",
   "execution_count": 11,
   "metadata": {},
   "outputs": [],
   "source": [
    "model = model.eval()\n"
   ]
  },
  {
   "cell_type": "code",
   "execution_count": 12,
   "metadata": {},
   "outputs": [
    {
     "name": "stdout",
     "output_type": "stream",
     "text": [
      "[\"Instruction: What is the sentiment of this news? Please choose an answer from {negative/neutral/positive}\\nInput: FINANCING OF ASPOCOMP 'S GROWTH Aspocomp is aggressively pursuing its growth strategy by increasingly focusing on technologically more demanding HDI printed circuit boards PCBs .\\nAnswer: \", \"Instruction: What is the sentiment of this news? Please choose an answer from {negative/neutral/positive}\\nInput: FINANCING OF ASPOCOMP 'S GROWTH Aspocomp is aggressively pursuing its growth strategy by increasingly focusing on technologically more demanding HDI printed circuit boards PCBs .\\nAnswer: \", \"Instruction: What is the sentiment of this news? Please choose an answer from {negative/neutral/positive}\\nInput: FINANCING OF ASPOCOMP 'S GROWTH Aspocomp is aggressively pursuing its growth strategy by increasingly focusing on technologically more demanding HDI printed circuit boards PCBs .\\nAnswer: \", \"Instruction: What is the sentiment of this news? Please choose an answer from {negative/neutral/positive}\\nInput: FINANCING OF ASPOCOMP 'S GROWTH Aspocomp is aggressively pursuing its growth strategy by increasingly focusing on technologically more demanding HDI printed circuit boards PCBs .\\nAnswer: \", \"Instruction: What is the sentiment of this news? Please choose an answer from {negative/neutral/positive}\\nInput: FINANCING OF ASPOCOMP 'S GROWTH Aspocomp is aggressively pursuing its growth strategy by increasingly focusing on technologically more demanding HDI printed circuit boards PCBs .\\nAnswer: \", \"Instruction: What is the sentiment of this news? Please choose an answer from {negative/neutral/positive}\\nInput: FINANCING OF ASPOCOMP 'S GROWTH Aspocomp is aggressively pursuing its growth strategy by increasingly focusing on technologically more demanding HDI printed circuit boards PCBs .\\nAnswer: \", 'Instruction: What is the sentiment of this news? Please choose an answer from {negative/neutral/positive}\\nInput: Input: XRP Price Prediction 2023-2032 [After Lawsuit]: $1 Coming Soon?\\nAnswer: ', 'Instruction: What is the sentiment of this news? Please choose an answer from {negative/neutral/positive} \\nInput: GMX V2 Beta Live on Arbitrum and Avalanche Mainnets.      \\nAnswer: ']\n"
     ]
    }
   ],
   "source": [
    "\n",
    "# Make prompts\n",
    "prompts = [\n",
    "'''Instruction: What is the sentiment of this news? Please choose an answer from {negative/neutral/positive}\n",
    "Input: FINANCING OF ASPOCOMP 'S GROWTH Aspocomp is aggressively pursuing its growth strategy by increasingly focusing on technologically more demanding HDI printed circuit boards PCBs .\n",
    "Answer: ''',\n",
    "'''Instruction: What is the sentiment of this news? Please choose an answer from {negative/neutral/positive}\n",
    "Input: FINANCING OF ASPOCOMP 'S GROWTH Aspocomp is aggressively pursuing its growth strategy by increasingly focusing on technologically more demanding HDI printed circuit boards PCBs .\n",
    "Answer: ''',\n",
    "'''Instruction: What is the sentiment of this news? Please choose an answer from {negative/neutral/positive}\n",
    "Input: FINANCING OF ASPOCOMP 'S GROWTH Aspocomp is aggressively pursuing its growth strategy by increasingly focusing on technologically more demanding HDI printed circuit boards PCBs .\n",
    "Answer: ''',\n",
    "'''Instruction: What is the sentiment of this news? Please choose an answer from {negative/neutral/positive}\n",
    "Input: FINANCING OF ASPOCOMP 'S GROWTH Aspocomp is aggressively pursuing its growth strategy by increasingly focusing on technologically more demanding HDI printed circuit boards PCBs .\n",
    "Answer: ''',\n",
    "'''Instruction: What is the sentiment of this news? Please choose an answer from {negative/neutral/positive}\n",
    "Input: FINANCING OF ASPOCOMP 'S GROWTH Aspocomp is aggressively pursuing its growth strategy by increasingly focusing on technologically more demanding HDI printed circuit boards PCBs .\n",
    "Answer: ''',\n",
    "'''Instruction: What is the sentiment of this news? Please choose an answer from {negative/neutral/positive}\n",
    "Input: FINANCING OF ASPOCOMP 'S GROWTH Aspocomp is aggressively pursuing its growth strategy by increasingly focusing on technologically more demanding HDI printed circuit boards PCBs .\n",
    "Answer: ''',\n",
    "'''Instruction: What is the sentiment of this news? Please choose an answer from {negative/neutral/positive}\n",
    "Input: Input: XRP Price Prediction 2023-2032 [After Lawsuit]: $1 Coming Soon?\n",
    "Answer: ''',\n",
    "'''Instruction: What is the sentiment of this news? Please choose an answer from {negative/neutral/positive} \n",
    "Input: GMX V2 Beta Live on Arbitrum and Avalanche Mainnets.      \n",
    "Answer: ''',\n",
    "]\n",
    "\n",
    "print(prompts)\n"
   ]
  },
  {
   "cell_type": "code",
   "execution_count": 13,
   "metadata": {},
   "outputs": [
    {
     "name": "stdout",
     "output_type": "stream",
     "text": [
      "[' positive']\n",
      "[' positive']\n",
      "[' positive']\n",
      "[' positive']\n",
      "[' positive']\n",
      "[' positive']\n",
      "[' neutral']\n",
      "[' positive']\n"
     ]
    }
   ],
   "source": [
    "# Generate results\n",
    "for prompt in prompts:\n",
    "    tokens = tokenizer(prompt, return_tensors='pt', padding=True, max_length=512)\n",
    "    res = model.generate(**tokens, max_length=512)\n",
    "    res_sentences = [tokenizer.decode(i) for i in res]\n",
    "    out_text = [o.split(\"Answer: \")[1] for o in res_sentences]\n",
    "    print(out_text)\n",
    "\n",
    "# show results\n",
    "# for sentiment in out_text:\n",
    "#     print(sentiment)"
   ]
  },
  {
   "cell_type": "code",
   "execution_count": 65,
   "metadata": {},
   "outputs": [
    {
     "name": "stderr",
     "output_type": "stream",
     "text": [
      "/Users/tanjiajun/Documents/GitHub/getrich-backend/getrich/lib/python3.10/site-packages/transformers/tokenization_utils_base.py:2411: UserWarning: `max_length` is ignored when `padding`=`True` and there is no truncation strategy. To pad to max length, use `padding='max_length'`.\n",
      "  warnings.warn(\n"
     ]
    }
   ],
   "source": [
    "tokens = tokenizer(prompt, return_tensors='pt', padding=True, max_length=512)\n"
   ]
  },
  {
   "cell_type": "code",
   "execution_count": 66,
   "metadata": {},
   "outputs": [
    {
     "name": "stderr",
     "output_type": "stream",
     "text": [
      "/Users/tanjiajun/Documents/GitHub/getrich-backend/getrich/lib/python3.10/site-packages/transformers/generation/utils.py:1468: UserWarning: You are calling .generate() with the `input_ids` being on a device type different than your model's device. `input_ids` is on cpu, whereas the model is on mps. You may experience unexpected behaviors or slower generation. Please make sure that you have put `input_ids` to the correct device by calling for example input_ids = input_ids.to('mps') before running `.generate()`.\n",
      "  warnings.warn(\n"
     ]
    }
   ],
   "source": [
    "res = model.generate(**tokens, max_length=512)"
   ]
  },
  {
   "cell_type": "code",
   "execution_count": 85,
   "metadata": {},
   "outputs": [
    {
     "ename": "AttributeError",
     "evalue": "_hf_hook",
     "output_type": "error",
     "traceback": [
      "\u001b[0;31m---------------------------------------------------------------------------\u001b[0m",
      "\u001b[0;31mAttributeError\u001b[0m                            Traceback (most recent call last)",
      "Cell \u001b[0;32mIn[85], line 1\u001b[0m\n\u001b[0;32m----> 1\u001b[0m model \u001b[39m=\u001b[39m PeftModel\u001b[39m.\u001b[39;49mfrom_pretrained(model, peft_model, offload_folder\u001b[39m=\u001b[39;49m\u001b[39m\"\u001b[39;49m\u001b[39moffload\u001b[39;49m\u001b[39m\"\u001b[39;49m)\n",
      "File \u001b[0;32m~/Documents/GitHub/getrich-backend/getrich/lib/python3.10/site-packages/peft/peft_model.py:260\u001b[0m, in \u001b[0;36mPeftModel.from_pretrained\u001b[0;34m(cls, model, model_id, adapter_name, is_trainable, config, **kwargs)\u001b[0m\n\u001b[1;32m    255\u001b[0m     \u001b[39mraise\u001b[39;00m \u001b[39mValueError\u001b[39;00m(\u001b[39mf\u001b[39m\u001b[39m\"\u001b[39m\u001b[39mThe input config must be a PeftConfig, got \u001b[39m\u001b[39m{\u001b[39;00mconfig\u001b[39m.\u001b[39m\u001b[39m__class__\u001b[39m\u001b[39m}\u001b[39;00m\u001b[39m\"\u001b[39m)\n\u001b[1;32m    257\u001b[0m \u001b[39mif\u001b[39;00m (\u001b[39mgetattr\u001b[39m(model, \u001b[39m\"\u001b[39m\u001b[39mhf_device_map\u001b[39m\u001b[39m\"\u001b[39m, \u001b[39mNone\u001b[39;00m) \u001b[39mis\u001b[39;00m \u001b[39mnot\u001b[39;00m \u001b[39mNone\u001b[39;00m) \u001b[39mand\u001b[39;00m \u001b[39mlen\u001b[39m(\n\u001b[1;32m    258\u001b[0m     \u001b[39mset\u001b[39m(model\u001b[39m.\u001b[39mhf_device_map\u001b[39m.\u001b[39mvalues())\u001b[39m.\u001b[39mintersection({\u001b[39m\"\u001b[39m\u001b[39mcpu\u001b[39m\u001b[39m\"\u001b[39m, \u001b[39m\"\u001b[39m\u001b[39mdisk\u001b[39m\u001b[39m\"\u001b[39m})\n\u001b[1;32m    259\u001b[0m ) \u001b[39m>\u001b[39m \u001b[39m0\u001b[39m:\n\u001b[0;32m--> 260\u001b[0m     remove_hook_from_submodules(model)\n\u001b[1;32m    262\u001b[0m \u001b[39mif\u001b[39;00m \u001b[39misinstance\u001b[39m(config, PromptLearningConfig) \u001b[39mand\u001b[39;00m is_trainable:\n\u001b[1;32m    263\u001b[0m     \u001b[39mraise\u001b[39;00m \u001b[39mValueError\u001b[39;00m(\u001b[39m\"\u001b[39m\u001b[39mCannot set a prompt learning adapter to trainable when loading pretrained adapter.\u001b[39m\u001b[39m\"\u001b[39m)\n",
      "File \u001b[0;32m~/Documents/GitHub/getrich-backend/getrich/lib/python3.10/site-packages/accelerate/hooks.py:435\u001b[0m, in \u001b[0;36mremove_hook_from_submodules\u001b[0;34m(module)\u001b[0m\n\u001b[1;32m    433\u001b[0m remove_hook_from_module(module)\n\u001b[1;32m    434\u001b[0m \u001b[39mfor\u001b[39;00m child \u001b[39min\u001b[39;00m module\u001b[39m.\u001b[39mchildren():\n\u001b[0;32m--> 435\u001b[0m     remove_hook_from_submodules(child)\n",
      "File \u001b[0;32m~/Documents/GitHub/getrich-backend/getrich/lib/python3.10/site-packages/accelerate/hooks.py:433\u001b[0m, in \u001b[0;36mremove_hook_from_submodules\u001b[0;34m(module)\u001b[0m\n\u001b[1;32m    426\u001b[0m \u001b[39mdef\u001b[39;00m \u001b[39mremove_hook_from_submodules\u001b[39m(module: nn\u001b[39m.\u001b[39mModule):\n\u001b[1;32m    427\u001b[0m \u001b[39m    \u001b[39m\u001b[39m\"\"\"\u001b[39;00m\n\u001b[1;32m    428\u001b[0m \u001b[39m    Recursively removes all hooks attached on the submodules of a given model.\u001b[39;00m\n\u001b[1;32m    429\u001b[0m \n\u001b[1;32m    430\u001b[0m \u001b[39m    Args:\u001b[39;00m\n\u001b[1;32m    431\u001b[0m \u001b[39m        module (`torch.nn.Module`): The module on which to remove all hooks.\u001b[39;00m\n\u001b[1;32m    432\u001b[0m \u001b[39m    \"\"\"\u001b[39;00m\n\u001b[0;32m--> 433\u001b[0m     remove_hook_from_module(module)\n\u001b[1;32m    434\u001b[0m     \u001b[39mfor\u001b[39;00m child \u001b[39min\u001b[39;00m module\u001b[39m.\u001b[39mchildren():\n\u001b[1;32m    435\u001b[0m         remove_hook_from_submodules(child)\n",
      "File \u001b[0;32m~/Documents/GitHub/getrich-backend/getrich/lib/python3.10/site-packages/accelerate/hooks.py:187\u001b[0m, in \u001b[0;36mremove_hook_from_module\u001b[0;34m(module, recurse)\u001b[0m\n\u001b[1;32m    185\u001b[0m \u001b[39mif\u001b[39;00m \u001b[39mhasattr\u001b[39m(module, \u001b[39m\"\u001b[39m\u001b[39m_hf_hook\u001b[39m\u001b[39m\"\u001b[39m):\n\u001b[1;32m    186\u001b[0m     module\u001b[39m.\u001b[39m_hf_hook\u001b[39m.\u001b[39mdetach_hook(module)\n\u001b[0;32m--> 187\u001b[0m     \u001b[39mdelattr\u001b[39;49m(module, \u001b[39m\"\u001b[39;49m\u001b[39m_hf_hook\u001b[39;49m\u001b[39m\"\u001b[39;49m)\n\u001b[1;32m    189\u001b[0m \u001b[39mif\u001b[39;00m \u001b[39mhasattr\u001b[39m(module, \u001b[39m\"\u001b[39m\u001b[39m_old_forward\u001b[39m\u001b[39m\"\u001b[39m):\n\u001b[1;32m    190\u001b[0m     module\u001b[39m.\u001b[39mforward \u001b[39m=\u001b[39m module\u001b[39m.\u001b[39m_old_forward\n",
      "File \u001b[0;32m~/Documents/GitHub/getrich-backend/getrich/lib/python3.10/site-packages/torch/nn/modules/module.py:1685\u001b[0m, in \u001b[0;36mModule.__delattr__\u001b[0;34m(self, name)\u001b[0m\n\u001b[1;32m   1683\u001b[0m     \u001b[39mdel\u001b[39;00m \u001b[39mself\u001b[39m\u001b[39m.\u001b[39m_modules[name]\n\u001b[1;32m   1684\u001b[0m \u001b[39melse\u001b[39;00m:\n\u001b[0;32m-> 1685\u001b[0m     \u001b[39msuper\u001b[39;49m()\u001b[39m.\u001b[39;49m\u001b[39m__delattr__\u001b[39;49m(name)\n",
      "\u001b[0;31mAttributeError\u001b[0m: _hf_hook"
     ]
    }
   ],
   "source": [
    "model = PeftModel.from_pretrained(model, peft_model, offload_folder=\"offload\")"
   ]
  },
  {
   "cell_type": "code",
   "execution_count": 67,
   "metadata": {},
   "outputs": [
    {
     "data": {
      "text/plain": [
       "tensor([[64790, 64792, 29101, 30954,  1266,   323,   267, 17523,   290,   434,\n",
       "          2374, 30987,  3485,  3331,   284,  3238,   428,   729, 26058, 30967,\n",
       "           679, 24961, 30967, 25545, 30983,    13, 10426, 30954, 22833, 20612,\n",
       "          2853,  3820, 28925,  4678,  2724, 30947,   765, 30937, 10467,  4210,\n",
       "          5046,   748, 30925,   420,  3486,   323, 29702, 15949,   667,  2924,\n",
       "          4663,   422,  7636,  9962,   331,  1318, 14650,   548, 13640,  8242,\n",
       "         30936,  9464,  9437, 11128,  5324, 27211,   918,    13,  4244,  1902,\n",
       "           266, 30954, 30910,  3621,     2],\n",
       "        [64790, 64792, 29101, 30954,  1266,   323,   267, 17523,   290,   434,\n",
       "          2374, 30987,  3485,  3331,   284,  3238,   428,   729, 26058, 30967,\n",
       "           679, 24961, 30967, 25545, 30983,    13, 10426, 30954, 22833, 20612,\n",
       "          2853,  3820, 28925,  4678,  2724, 30947,   765, 30937, 10467,  4210,\n",
       "          5046,   748, 30925,   420,  3486,   323, 29702, 15949,   667,  2924,\n",
       "          4663,   422,  7636,  9962,   331,  1318, 14650,   548, 13640,  8242,\n",
       "         30936,  9464,  9437, 11128,  5324, 27211,   918,    13,  4244,  1902,\n",
       "           266, 30954, 30910,  3621,     2],\n",
       "        [64790, 64792, 29101, 30954,  1266,   323,   267, 17523,   290,   434,\n",
       "          2374, 30987,  3485,  3331,   284,  3238,   428,   729, 26058, 30967,\n",
       "           679, 24961, 30967, 25545, 30983,    13, 10426, 30954, 22833, 20612,\n",
       "          2853,  3820, 28925,  4678,  2724, 30947,   765, 30937, 10467,  4210,\n",
       "          5046,   748, 30925,   420,  3486,   323, 29702, 15949,   667,  2924,\n",
       "          4663,   422,  7636,  9962,   331,  1318, 14650,   548, 13640,  8242,\n",
       "         30936,  9464,  9437, 11128,  5324, 27211,   918,    13,  4244,  1902,\n",
       "           266, 30954, 30910,  3621,     2]])"
      ]
     },
     "execution_count": 67,
     "metadata": {},
     "output_type": "execute_result"
    }
   ],
   "source": [
    "res"
   ]
  },
  {
   "cell_type": "code",
   "execution_count": 68,
   "metadata": {},
   "outputs": [],
   "source": [
    "res_sentences = [tokenizer.decode(i) for i in res]\n"
   ]
  },
  {
   "cell_type": "code",
   "execution_count": 69,
   "metadata": {},
   "outputs": [
    {
     "data": {
      "text/plain": [
       "[\"Instruction: What is the sentiment of this news? Please choose an answer from {negative/neutral/positive}\\nInput: FINANCING OF ASPOCOMP 'S GROWTH Aspocomp is aggressively pursuing its growth strategy by increasingly focusing on technologically more demanding HDI printed circuit boards PCBs .\\nAnswer:  positive\",\n",
       " \"Instruction: What is the sentiment of this news? Please choose an answer from {negative/neutral/positive}\\nInput: FINANCING OF ASPOCOMP 'S GROWTH Aspocomp is aggressively pursuing its growth strategy by increasingly focusing on technologically more demanding HDI printed circuit boards PCBs .\\nAnswer:  positive\",\n",
       " \"Instruction: What is the sentiment of this news? Please choose an answer from {negative/neutral/positive}\\nInput: FINANCING OF ASPOCOMP 'S GROWTH Aspocomp is aggressively pursuing its growth strategy by increasingly focusing on technologically more demanding HDI printed circuit boards PCBs .\\nAnswer:  positive\"]"
      ]
     },
     "execution_count": 69,
     "metadata": {},
     "output_type": "execute_result"
    }
   ],
   "source": [
    "res_sentences\n"
   ]
  },
  {
   "cell_type": "code",
   "execution_count": 70,
   "metadata": {},
   "outputs": [
    {
     "data": {
      "text/plain": [
       "[' positive', ' positive', ' positive']"
      ]
     },
     "execution_count": 70,
     "metadata": {},
     "output_type": "execute_result"
    }
   ],
   "source": [
    "out_text = [o.split(\"Answer: \")[1] for o in res_sentences]\n",
    "out_text"
   ]
  },
  {
   "cell_type": "code",
   "execution_count": null,
   "metadata": {},
   "outputs": [],
   "source": []
  }
 ],
 "metadata": {
  "kernelspec": {
   "display_name": "getrich",
   "language": "python",
   "name": "python3"
  },
  "language_info": {
   "codemirror_mode": {
    "name": "ipython",
    "version": 3
   },
   "file_extension": ".py",
   "mimetype": "text/x-python",
   "name": "python",
   "nbconvert_exporter": "python",
   "pygments_lexer": "ipython3",
   "version": "3.10.10"
  },
  "orig_nbformat": 4
 },
 "nbformat": 4,
 "nbformat_minor": 2
}
